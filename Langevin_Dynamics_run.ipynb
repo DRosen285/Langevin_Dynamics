{
 "cells": [
  {
   "cell_type": "code",
   "execution_count": null,
   "id": "f67e5266",
   "metadata": {},
   "outputs": [],
   "source": [
    "#Run Langevin Dynamics (inspired by https://hockygroup.hosting.nyu.edu/exercise/langevin-dynamics.html)\n",
    "import os\n",
    "import numpy as np \n",
    "import matplotlib.pyplot as plt\n",
    "import mdtraj as md\n",
    "import MDAnalysis as mda\n",
    "\n",
    "import Maxwell_Boltzmann_init\n",
    "import Langevin_integrator\n",
    "import force_field"
   ]
  },
  {
   "cell_type": "code",
   "execution_count": null,
   "id": "fd3052f9",
   "metadata": {},
   "outputs": [],
   "source": [
    "#natural constants\n",
    "kB=1.380649e-26 #[kJ/K]\n",
    "NA=6.02214199e23 #[1/mol]\n",
    "\n",
    "#md input\n",
    "max_step_number=5e07\n",
    "temp=2.045 #[K]\n",
    "kBT=kB*temp*NA\n",
    "#dimension of the sytem: 3=x,y,z; 2=x,y; 1=x\n",
    "dim=3\n",
    "delta_temp= 1*1e-12 #[s]: 1e-12 [s] cooresponds to [ps]\n",
    "#friction coefficient for Langevin thermostat\n",
    "my_gamma=0.5/delta_temp \n",
    "#time step for integrating Newton's equations of motion [s]: 1e-15 [s] cooresponds to [fs]\n",
    "my_dt=1*1e-15 \n",
    "#frequency to store energy,forces,positions:\n",
    "save_freq=1000\n",
    "\n",
    "#sytsem specific: 4 beads connected by a harmonic spring \n",
    "\n",
    "n_particles = 4\n",
    "start_pos = np.zeros((n_particles,3))\n",
    "spacing=1.0\n",
    "start_pos[0,0] = 0\n",
    "start_pos[1,0] = 1.0+(0.01*np.random.randn())\n",
    "start_pos[2,0] = 2*1.0\n",
    "start_pos[3,0] = 3*1.0\n",
    "start_pos[:,1] = 0\n",
    "start_pos[:,2] = 0\n",
    "initial_position =start_pos*1e-09 #nm in m\n",
    "\n",
    "m_atom=12/1000 #[kg/mol]\n",
    "masses=np.zeros(n_particles)\n",
    "for i in range (0,n_particles):\n",
    "    masses[i]=m_atom\n",
    "\n",
    "m_total=n_particles*m_atom\n",
    "\n",
    "#generate initial velocities\n",
    "initial_velocity= Maxwell_Boltzmann_init.init_velo(n_particles,masses,temp,kBT,kB,NA) # in [m/s]\n",
    "\n",
    "#force field setup\n",
    "\n",
    "#spring constant for harmonic bond\n",
    "spring_const=50*temp\n",
    "k_vec=[10*kB*NA*spring_const/(1e-09*1e-09),1.0*kB*NA*spring_const/(1e-09*1e-09)] #[kj/mol/m^2] --->1e-10: Angstrom; --->1e-09:nm\n",
    "ff=force_field.harmonic_bond_force#force field\n",
    "\n",
    "#run Langevin Dynamics\n",
    "times, positions, velocities, total_energies,e_pot,temperature,forces = Langevin_integrator.baoab(dim,n_particles,ff, \\\n",
    "                                                                            max_step_number, my_dt, my_gamma, kB,NA,temp,m_atom,\\\n",
    "                                                                            initial_position, initial_velocity,\\\n",
    "                                                                            k_vec,save_freq)                  "
   ]
  },
  {
   "cell_type": "code",
   "execution_count": null,
   "id": "362e9032",
   "metadata": {},
   "outputs": [],
   "source": [
    "#save coordinates\n",
    "np.save('coords-50ns_python',positions)"
   ]
  },
  {
   "cell_type": "code",
   "execution_count": null,
   "id": "6b99917c",
   "metadata": {},
   "outputs": [],
   "source": [
    "#create dcd trajectory\n",
    "u=mda.Universe('ANM.pdb','ANM.pdb')"
   ]
  },
  {
   "cell_type": "code",
   "execution_count": null,
   "id": "1fb37108",
   "metadata": {},
   "outputs": [],
   "source": [
    "positions=np.load('coords-50ns_python.npy')\n",
    "positions=positions*1e09\n",
    "positions"
   ]
  },
  {
   "cell_type": "code",
   "execution_count": null,
   "id": "9529b371",
   "metadata": {},
   "outputs": [],
   "source": [
    "#create universe class for toy model\n",
    "# create the Universe\n",
    "n_residues=4\n",
    "#beads per residue (bpr)\n",
    "bpr=1\n",
    "nbeads=4\n",
    "#indices for bpr\n",
    "resindices = np.repeat(range(n_residues), bpr)\n",
    "assert len(resindices) == nbeads\n",
    "print(\"resindices:\", resindices[:n_residues])\n",
    "#all beads are in one segment\n",
    "segindices = [0] * n_residues\n",
    "print(\"segindices:\", segindices[:n_residues])\n",
    "toy_model = mda.Universe.empty(nbeads,\n",
    "                         n_residues=n_residues,\n",
    "                         atom_resindex=resindices,\n",
    "                         residue_segindex=segindices,\n",
    "                         trajectory=True)\n",
    "toy_model.add_TopologyAttr('name', ['CA']*n_residues)\n",
    "toy_model.atoms.names"
   ]
  },
  {
   "cell_type": "code",
   "execution_count": null,
   "id": "fc5b37ad",
   "metadata": {},
   "outputs": [],
   "source": [
    "toy_model=mda.Universe('ANM.pdb',positions)\n",
    "toy_model.add_TopologyAttr('name', ['CA']*n_residues)\n",
    "toy_model.atoms.names"
   ]
  },
  {
   "cell_type": "code",
   "execution_count": null,
   "id": "471eb249",
   "metadata": {},
   "outputs": [],
   "source": [
    "toy=toy_model.select_atoms(\"name CA\")\n",
    "with mda.Writer(\"ANM_output_python_50ns_nm.dcd\", toy.n_atoms,multiframe=True) as W:\n",
    "    for ts in toy_model.trajectory:\n",
    "        print(toy.positions)\n",
    "        W.write(toy)"
   ]
  },
  {
   "cell_type": "markdown",
   "id": "278a0c1c",
   "metadata": {},
   "source": [
    "# Quick Analysis"
   ]
  },
  {
   "cell_type": "code",
   "execution_count": null,
   "id": "77f9b688",
   "metadata": {},
   "outputs": [],
   "source": [
    "#temperature\n",
    "print('Average temperature = %f [K]'%temperature.mean())\n",
    "thermostat_t=[temp,temp]\n",
    "t0=[0,max(times)]\n",
    "plt.figure()\n",
    "plt.plot(times,temperature,marker='o',linestyle='',c='k',label='Simulated T')\n",
    "plt.plot(t0,thermostat_t,marker='o',linestyle='-',c='r',label='Thermostat T')\n",
    "plt.xlabel('time')\n",
    "plt.ylabel(\"Temperature\")\n",
    "plt.legend()\n",
    "plt.show()"
   ]
  },
  {
   "cell_type": "code",
   "execution_count": null,
   "id": "53c51af2",
   "metadata": {},
   "outputs": [],
   "source": [
    "#total energy\n",
    "plt.figure()\n",
    "plt.plot(times,total_energies,marker='o',linestyle='',label='Simulated E')\n",
    "plt.xlabel('time')\n",
    "plt.ylabel(\"Total Energy\")\n",
    "plt.legend()\n",
    "plt.show()"
   ]
  },
  {
   "cell_type": "code",
   "execution_count": null,
   "id": "0ca61d82",
   "metadata": {},
   "outputs": [],
   "source": [
    "#bond distribution\n",
    "import pyemma\n",
    "import deeptime\n",
    "import pyemma.coordinates as coor"
   ]
  },
  {
   "cell_type": "code",
   "execution_count": null,
   "id": "44f5051c",
   "metadata": {},
   "outputs": [],
   "source": [
    "featurizer = pyemma.coordinates.featurizer('ANM.pdb')"
   ]
  },
  {
   "cell_type": "code",
   "execution_count": null,
   "id": "e3a023f7",
   "metadata": {},
   "outputs": [],
   "source": [
    "heavy_atom_indices = featurizer.select_Heavy()\n",
    "heavy_atom_indices\n",
    "featurizer.add_distances(heavy_atom_indices, periodic=False)"
   ]
  },
  {
   "cell_type": "code",
   "execution_count": null,
   "id": "15231307",
   "metadata": {},
   "outputs": [],
   "source": [
    "Y= pyemma.coordinates.load('ANM_output_python_50ns_nm.dcd', featurizer)"
   ]
  },
  {
   "cell_type": "code",
   "execution_count": null,
   "id": "e901c534",
   "metadata": {},
   "outputs": [],
   "source": [
    "fig, ax = plt.subplots(figsize=(10, 14))\n",
    "\n",
    "pyemma.plots.plot_feature_histograms(Y, \n",
    "                                     feature_labels=featurizer, \n",
    "                                     ax=ax)\n",
    "ax.set_xlabel('heavy atom distance')\n",
    "ax.set_title('distance histograms per dimension (normalized)');"
   ]
  },
  {
   "cell_type": "code",
   "execution_count": null,
   "id": "d4f4fbb7",
   "metadata": {},
   "outputs": [],
   "source": []
  }
 ],
 "metadata": {
  "kernelspec": {
   "display_name": "Python 3 (ipykernel)",
   "language": "python",
   "name": "python3"
  },
  "language_info": {
   "codemirror_mode": {
    "name": "ipython",
    "version": 3
   },
   "file_extension": ".py",
   "mimetype": "text/x-python",
   "name": "python",
   "nbconvert_exporter": "python",
   "pygments_lexer": "ipython3",
   "version": "3.9.10"
  }
 },
 "nbformat": 4,
 "nbformat_minor": 5
}
